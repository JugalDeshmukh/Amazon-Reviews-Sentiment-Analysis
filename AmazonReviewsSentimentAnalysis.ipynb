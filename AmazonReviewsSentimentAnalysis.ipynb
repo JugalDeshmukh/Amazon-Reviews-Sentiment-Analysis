{
 "cells": [
  {
   "cell_type": "markdown",
   "id": "39d2c17b",
   "metadata": {},
   "source": [
    "# Amazon Reviews Sentiment Analysis Project"
   ]
  },
  {
   "cell_type": "markdown",
   "id": "6b0a24e1",
   "metadata": {},
   "source": [
    "The below project code performs sentiment analysis on Amazon reviews dataset (kaggle dataset) using the VADER (Valence Aware Dictionary and Sentiment Reasoner) sentiment analysis tool. "
   ]
  },
  {
   "cell_type": "markdown",
   "id": "f8523b4c",
   "metadata": {},
   "source": [
    "## Load the dataset"
   ]
  },
  {
   "cell_type": "code",
   "execution_count": 1,
   "id": "fa579a80",
   "metadata": {},
   "outputs": [
    {
     "data": {
      "text/html": [
       "<div>\n",
       "<style scoped>\n",
       "    .dataframe tbody tr th:only-of-type {\n",
       "        vertical-align: middle;\n",
       "    }\n",
       "\n",
       "    .dataframe tbody tr th {\n",
       "        vertical-align: top;\n",
       "    }\n",
       "\n",
       "    .dataframe thead th {\n",
       "        text-align: right;\n",
       "    }\n",
       "</style>\n",
       "<table border=\"1\" class=\"dataframe\">\n",
       "  <thead>\n",
       "    <tr style=\"text-align: right;\">\n",
       "      <th></th>\n",
       "      <th>Unnamed: 0</th>\n",
       "      <th>reviewerName</th>\n",
       "      <th>overall</th>\n",
       "      <th>reviewText</th>\n",
       "      <th>reviewTime</th>\n",
       "      <th>day_diff</th>\n",
       "      <th>helpful_yes</th>\n",
       "      <th>helpful_no</th>\n",
       "      <th>total_vote</th>\n",
       "      <th>score_pos_neg_diff</th>\n",
       "      <th>score_average_rating</th>\n",
       "      <th>wilson_lower_bound</th>\n",
       "    </tr>\n",
       "  </thead>\n",
       "  <tbody>\n",
       "    <tr>\n",
       "      <th>0</th>\n",
       "      <td>0</td>\n",
       "      <td>NaN</td>\n",
       "      <td>4.0</td>\n",
       "      <td>No issues.</td>\n",
       "      <td>2014-07-23</td>\n",
       "      <td>138</td>\n",
       "      <td>0</td>\n",
       "      <td>0</td>\n",
       "      <td>0</td>\n",
       "      <td>0</td>\n",
       "      <td>0.0</td>\n",
       "      <td>0.0</td>\n",
       "    </tr>\n",
       "    <tr>\n",
       "      <th>1</th>\n",
       "      <td>1</td>\n",
       "      <td>0mie</td>\n",
       "      <td>5.0</td>\n",
       "      <td>Purchased this for my device, it worked as adv...</td>\n",
       "      <td>2013-10-25</td>\n",
       "      <td>409</td>\n",
       "      <td>0</td>\n",
       "      <td>0</td>\n",
       "      <td>0</td>\n",
       "      <td>0</td>\n",
       "      <td>0.0</td>\n",
       "      <td>0.0</td>\n",
       "    </tr>\n",
       "    <tr>\n",
       "      <th>2</th>\n",
       "      <td>2</td>\n",
       "      <td>1K3</td>\n",
       "      <td>4.0</td>\n",
       "      <td>it works as expected. I should have sprung for...</td>\n",
       "      <td>2012-12-23</td>\n",
       "      <td>715</td>\n",
       "      <td>0</td>\n",
       "      <td>0</td>\n",
       "      <td>0</td>\n",
       "      <td>0</td>\n",
       "      <td>0.0</td>\n",
       "      <td>0.0</td>\n",
       "    </tr>\n",
       "    <tr>\n",
       "      <th>3</th>\n",
       "      <td>3</td>\n",
       "      <td>1m2</td>\n",
       "      <td>5.0</td>\n",
       "      <td>This think has worked out great.Had a diff. br...</td>\n",
       "      <td>2013-11-21</td>\n",
       "      <td>382</td>\n",
       "      <td>0</td>\n",
       "      <td>0</td>\n",
       "      <td>0</td>\n",
       "      <td>0</td>\n",
       "      <td>0.0</td>\n",
       "      <td>0.0</td>\n",
       "    </tr>\n",
       "    <tr>\n",
       "      <th>4</th>\n",
       "      <td>4</td>\n",
       "      <td>2&amp;amp;1/2Men</td>\n",
       "      <td>5.0</td>\n",
       "      <td>Bought it with Retail Packaging, arrived legit...</td>\n",
       "      <td>2013-07-13</td>\n",
       "      <td>513</td>\n",
       "      <td>0</td>\n",
       "      <td>0</td>\n",
       "      <td>0</td>\n",
       "      <td>0</td>\n",
       "      <td>0.0</td>\n",
       "      <td>0.0</td>\n",
       "    </tr>\n",
       "  </tbody>\n",
       "</table>\n",
       "</div>"
      ],
      "text/plain": [
       "   Unnamed: 0  reviewerName  overall  \\\n",
       "0           0           NaN      4.0   \n",
       "1           1          0mie      5.0   \n",
       "2           2           1K3      4.0   \n",
       "3           3           1m2      5.0   \n",
       "4           4  2&amp;1/2Men      5.0   \n",
       "\n",
       "                                          reviewText  reviewTime  day_diff  \\\n",
       "0                                         No issues.  2014-07-23       138   \n",
       "1  Purchased this for my device, it worked as adv...  2013-10-25       409   \n",
       "2  it works as expected. I should have sprung for...  2012-12-23       715   \n",
       "3  This think has worked out great.Had a diff. br...  2013-11-21       382   \n",
       "4  Bought it with Retail Packaging, arrived legit...  2013-07-13       513   \n",
       "\n",
       "   helpful_yes  helpful_no  total_vote  score_pos_neg_diff  \\\n",
       "0            0           0           0                   0   \n",
       "1            0           0           0                   0   \n",
       "2            0           0           0                   0   \n",
       "3            0           0           0                   0   \n",
       "4            0           0           0                   0   \n",
       "\n",
       "   score_average_rating  wilson_lower_bound  \n",
       "0                   0.0                 0.0  \n",
       "1                   0.0                 0.0  \n",
       "2                   0.0                 0.0  \n",
       "3                   0.0                 0.0  \n",
       "4                   0.0                 0.0  "
      ]
     },
     "execution_count": 1,
     "metadata": {},
     "output_type": "execute_result"
    }
   ],
   "source": [
    "import numpy as np\n",
    "import pandas as pd\n",
    "\n",
    "df = pd.read_csv('amazon_reviews.csv')\n",
    "df.head()"
   ]
  },
  {
   "cell_type": "markdown",
   "id": "aecce2ce",
   "metadata": {},
   "source": [
    "## Select required columns from the dataset"
   ]
  },
  {
   "cell_type": "code",
   "execution_count": 2,
   "id": "ee440cc0",
   "metadata": {},
   "outputs": [],
   "source": [
    "finaldf = df[['overall','reviewText']]"
   ]
  },
  {
   "cell_type": "code",
   "execution_count": 3,
   "id": "309616f5",
   "metadata": {},
   "outputs": [
    {
     "data": {
      "text/html": [
       "<div>\n",
       "<style scoped>\n",
       "    .dataframe tbody tr th:only-of-type {\n",
       "        vertical-align: middle;\n",
       "    }\n",
       "\n",
       "    .dataframe tbody tr th {\n",
       "        vertical-align: top;\n",
       "    }\n",
       "\n",
       "    .dataframe thead th {\n",
       "        text-align: right;\n",
       "    }\n",
       "</style>\n",
       "<table border=\"1\" class=\"dataframe\">\n",
       "  <thead>\n",
       "    <tr style=\"text-align: right;\">\n",
       "      <th></th>\n",
       "      <th>overall</th>\n",
       "      <th>reviewText</th>\n",
       "    </tr>\n",
       "  </thead>\n",
       "  <tbody>\n",
       "    <tr>\n",
       "      <th>0</th>\n",
       "      <td>4.0</td>\n",
       "      <td>No issues.</td>\n",
       "    </tr>\n",
       "    <tr>\n",
       "      <th>1</th>\n",
       "      <td>5.0</td>\n",
       "      <td>Purchased this for my device, it worked as adv...</td>\n",
       "    </tr>\n",
       "    <tr>\n",
       "      <th>2</th>\n",
       "      <td>4.0</td>\n",
       "      <td>it works as expected. I should have sprung for...</td>\n",
       "    </tr>\n",
       "    <tr>\n",
       "      <th>3</th>\n",
       "      <td>5.0</td>\n",
       "      <td>This think has worked out great.Had a diff. br...</td>\n",
       "    </tr>\n",
       "    <tr>\n",
       "      <th>4</th>\n",
       "      <td>5.0</td>\n",
       "      <td>Bought it with Retail Packaging, arrived legit...</td>\n",
       "    </tr>\n",
       "    <tr>\n",
       "      <th>...</th>\n",
       "      <td>...</td>\n",
       "      <td>...</td>\n",
       "    </tr>\n",
       "    <tr>\n",
       "      <th>4910</th>\n",
       "      <td>1.0</td>\n",
       "      <td>I bought this Sandisk 16GB Class 10 to use wit...</td>\n",
       "    </tr>\n",
       "    <tr>\n",
       "      <th>4911</th>\n",
       "      <td>5.0</td>\n",
       "      <td>Used this for extending the capabilities of my...</td>\n",
       "    </tr>\n",
       "    <tr>\n",
       "      <th>4912</th>\n",
       "      <td>5.0</td>\n",
       "      <td>Great card that is very fast and reliable. It ...</td>\n",
       "    </tr>\n",
       "    <tr>\n",
       "      <th>4913</th>\n",
       "      <td>5.0</td>\n",
       "      <td>Good amount of space for the stuff I want to d...</td>\n",
       "    </tr>\n",
       "    <tr>\n",
       "      <th>4914</th>\n",
       "      <td>5.0</td>\n",
       "      <td>I've heard bad things about this 64gb Micro SD...</td>\n",
       "    </tr>\n",
       "  </tbody>\n",
       "</table>\n",
       "<p>4915 rows × 2 columns</p>\n",
       "</div>"
      ],
      "text/plain": [
       "      overall                                         reviewText\n",
       "0         4.0                                         No issues.\n",
       "1         5.0  Purchased this for my device, it worked as adv...\n",
       "2         4.0  it works as expected. I should have sprung for...\n",
       "3         5.0  This think has worked out great.Had a diff. br...\n",
       "4         5.0  Bought it with Retail Packaging, arrived legit...\n",
       "...       ...                                                ...\n",
       "4910      1.0  I bought this Sandisk 16GB Class 10 to use wit...\n",
       "4911      5.0  Used this for extending the capabilities of my...\n",
       "4912      5.0  Great card that is very fast and reliable. It ...\n",
       "4913      5.0  Good amount of space for the stuff I want to d...\n",
       "4914      5.0  I've heard bad things about this 64gb Micro SD...\n",
       "\n",
       "[4915 rows x 2 columns]"
      ]
     },
     "execution_count": 3,
     "metadata": {},
     "output_type": "execute_result"
    }
   ],
   "source": [
    "finaldf"
   ]
  },
  {
   "cell_type": "markdown",
   "id": "52ae18fa",
   "metadata": {},
   "source": [
    "## Remove blank records"
   ]
  },
  {
   "cell_type": "code",
   "execution_count": 4,
   "id": "561e4e1f",
   "metadata": {},
   "outputs": [
    {
     "name": "stderr",
     "output_type": "stream",
     "text": [
      "C:\\Users\\Jugal Deshmukh\\AppData\\Local\\Temp\\ipykernel_10168\\1829558359.py:2: SettingWithCopyWarning: \n",
      "A value is trying to be set on a copy of a slice from a DataFrame\n",
      "\n",
      "See the caveats in the documentation: https://pandas.pydata.org/pandas-docs/stable/user_guide/indexing.html#returning-a-view-versus-a-copy\n",
      "  finaldf.dropna(inplace=True)\n",
      "C:\\Users\\Jugal Deshmukh\\AppData\\Local\\Temp\\ipykernel_10168\\1829558359.py:11: SettingWithCopyWarning: \n",
      "A value is trying to be set on a copy of a slice from a DataFrame\n",
      "\n",
      "See the caveats in the documentation: https://pandas.pydata.org/pandas-docs/stable/user_guide/indexing.html#returning-a-view-versus-a-copy\n",
      "  finaldf.drop(blanks, inplace=True)\n"
     ]
    }
   ],
   "source": [
    "# REMOVE NaN VALUES AND EMPTY STRINGS:\n",
    "finaldf.dropna(inplace=True)\n",
    "\n",
    "blanks = []  # start with an empty list\n",
    "\n",
    "for i,lb,rv in finaldf.itertuples():  # iterate over the DataFrame\n",
    "    if type(rv)==str:            # avoid NaN values\n",
    "        if rv.isspace():         # test 'review' for whitespace\n",
    "            blanks.append(i)     # add matching index numbers to the list\n",
    "\n",
    "finaldf.drop(blanks, inplace=True)"
   ]
  },
  {
   "cell_type": "code",
   "execution_count": 5,
   "id": "ce6a4c0a",
   "metadata": {},
   "outputs": [
    {
     "data": {
      "text/plain": [
       "5.0    3921\n",
       "4.0     527\n",
       "1.0     244\n",
       "3.0     142\n",
       "2.0      80\n",
       "Name: overall, dtype: int64"
      ]
     },
     "execution_count": 5,
     "metadata": {},
     "output_type": "execute_result"
    }
   ],
   "source": [
    "finaldf['overall'].value_counts()"
   ]
  },
  {
   "cell_type": "markdown",
   "id": "0409d875",
   "metadata": {},
   "source": [
    "## Converting ratings of 5 and  4 to positive,3, 2 and 1 to negative"
   ]
  },
  {
   "cell_type": "code",
   "execution_count": 6,
   "id": "5a9844b1",
   "metadata": {},
   "outputs": [
    {
     "name": "stderr",
     "output_type": "stream",
     "text": [
      "C:\\Users\\Jugal Deshmukh\\AppData\\Local\\Temp\\ipykernel_10168\\2123763377.py:11: SettingWithCopyWarning: \n",
      "A value is trying to be set on a copy of a slice from a DataFrame.\n",
      "Try using .loc[row_indexer,col_indexer] = value instead\n",
      "\n",
      "See the caveats in the documentation: https://pandas.pydata.org/pandas-docs/stable/user_guide/indexing.html#returning-a-view-versus-a-copy\n",
      "  finaldf[\"overall\"] = finaldf[\"overall\"].map(replacements)\n"
     ]
    }
   ],
   "source": [
    "# Define the replacements\n",
    "replacements = {\n",
    "    5.0: \"pos\",\n",
    "    4.0: \"pos\",\n",
    "    3.0: \"neg\",\n",
    "    2.0: \"neg\",\n",
    "    1.0: \"neg\"\n",
    "}\n",
    "\n",
    "# Use the map function for efficient replacement\n",
    "finaldf[\"overall\"] = finaldf[\"overall\"].map(replacements)"
   ]
  },
  {
   "cell_type": "code",
   "execution_count": 7,
   "id": "21bbec1c",
   "metadata": {},
   "outputs": [
    {
     "data": {
      "text/plain": [
       "overall       object\n",
       "reviewText    object\n",
       "dtype: object"
      ]
     },
     "execution_count": 7,
     "metadata": {},
     "output_type": "execute_result"
    }
   ],
   "source": [
    "finaldf.dtypes"
   ]
  },
  {
   "cell_type": "code",
   "execution_count": 8,
   "id": "3f85fde5",
   "metadata": {},
   "outputs": [
    {
     "data": {
      "text/plain": [
       "pos    4448\n",
       "neg     466\n",
       "Name: overall, dtype: int64"
      ]
     },
     "execution_count": 8,
     "metadata": {},
     "output_type": "execute_result"
    }
   ],
   "source": [
    "finaldf['overall'].value_counts()"
   ]
  },
  {
   "cell_type": "code",
   "execution_count": 9,
   "id": "b03d1748",
   "metadata": {},
   "outputs": [
    {
     "data": {
      "text/plain": [
       "array(['pos', 'neg'], dtype=object)"
      ]
     },
     "execution_count": 9,
     "metadata": {},
     "output_type": "execute_result"
    }
   ],
   "source": [
    "finaldf['overall'].unique()"
   ]
  },
  {
   "cell_type": "markdown",
   "id": "f610182f",
   "metadata": {},
   "source": [
    "## Visualizing the sentiments from the Amazon reviews"
   ]
  },
  {
   "cell_type": "code",
   "execution_count": 10,
   "id": "9e7c6456",
   "metadata": {},
   "outputs": [],
   "source": [
    "import matplotlib.pyplot as plt"
   ]
  },
  {
   "cell_type": "code",
   "execution_count": 11,
   "id": "f54e9b03",
   "metadata": {},
   "outputs": [
    {
     "data": {
      "image/png": "[encoded data removed]",
      "text/plain": [
       "<Figure size 800x800 with 1 Axes>"
      ]
     },
     "metadata": {},
     "output_type": "display_data"
    },
    {
     "data": {
      "text/plain": [
       "pos    4448\n",
       "neg     466\n",
       "Name: overall, dtype: int64"
      ]
     },
     "execution_count": 11,
     "metadata": {},
     "output_type": "execute_result"
    }
   ],
   "source": [
    "# Assuming df is your DataFrame and it has a column named 'Score'\n",
    "# Generate the ratings variable from the 'Score' column\n",
    "ratings = finaldf['overall'].value_counts()\n",
    "\n",
    "# Extract the rating values and their corresponding counts\n",
    "numbers = ratings.index.tolist()\n",
    "quantity = ratings.values.tolist()\n",
    "\n",
    "# Define colors for the pie chart\n",
    "colors = ['#ff9999','#66b3ff','#99ff99','#ffcc99','#c2c2f0']\n",
    "\n",
    "# Create the pie chart\n",
    "plt.figure(figsize=(8, 8))\n",
    "plt.pie(quantity, labels=numbers, colors=colors, autopct='%1.1f%%', startangle=140, textprops={'fontsize': 12})\n",
    "\n",
    "# Draw a central circle to make it a donut chart\n",
    "centre_circle = plt.Circle((0,0),0.70,fc='white')\n",
    "fig = plt.gcf()\n",
    "fig.gca().add_artist(centre_circle)\n",
    "\n",
    "# Set the title\n",
    "plt.title('Distribution of Amazon Product Ratings', fontsize=16)\n",
    "\n",
    "# Display the pie chart\n",
    "plt.show()\n",
    "\n",
    "# Return the value counts\n",
    "ratings"
   ]
  },
  {
   "cell_type": "markdown",
   "id": "16402b94",
   "metadata": {},
   "source": [
    "## Import `SentimentIntensityAnalyzer` and create an sid object\n",
    "This assumes that the VADER lexicon has been downloaded."
   ]
  },
  {
   "cell_type": "code",
   "execution_count": 12,
   "id": "442b410a",
   "metadata": {},
   "outputs": [
    {
     "name": "stderr",
     "output_type": "stream",
     "text": [
      "[nltk_data] Downloading package vader_lexicon to C:\\Users\\Jugal\n",
      "[nltk_data]     Deshmukh\\AppData\\Roaming\\nltk_data...\n",
      "[nltk_data]   Package vader_lexicon is already up-to-date!\n"
     ]
    }
   ],
   "source": [
    "import nltk\n",
    "nltk.download('vader_lexicon')\n",
    "from nltk.sentiment.vader import SentimentIntensityAnalyzer\n",
    "\n",
    "sid = SentimentIntensityAnalyzer()"
   ]
  },
  {
   "cell_type": "markdown",
   "id": "3d38f3cf",
   "metadata": {},
   "source": [
    "## Use sid to append a `comp_score` to the dataset"
   ]
  },
  {
   "cell_type": "code",
   "execution_count": 13,
   "id": "459a280d",
   "metadata": {},
   "outputs": [
    {
     "name": "stderr",
     "output_type": "stream",
     "text": [
      "C:\\Users\\Jugal Deshmukh\\AppData\\Local\\Temp\\ipykernel_10168\\3408792306.py:1: SettingWithCopyWarning: \n",
      "A value is trying to be set on a copy of a slice from a DataFrame.\n",
      "Try using .loc[row_indexer,col_indexer] = value instead\n",
      "\n",
      "See the caveats in the documentation: https://pandas.pydata.org/pandas-docs/stable/user_guide/indexing.html#returning-a-view-versus-a-copy\n",
      "  finaldf['scores'] = finaldf['reviewText'].apply(lambda reviewText: sid.polarity_scores(reviewText))\n",
      "C:\\Users\\Jugal Deshmukh\\AppData\\Local\\Temp\\ipykernel_10168\\3408792306.py:3: SettingWithCopyWarning: \n",
      "A value is trying to be set on a copy of a slice from a DataFrame.\n",
      "Try using .loc[row_indexer,col_indexer] = value instead\n",
      "\n",
      "See the caveats in the documentation: https://pandas.pydata.org/pandas-docs/stable/user_guide/indexing.html#returning-a-view-versus-a-copy\n",
      "  finaldf['compound']  = finaldf['scores'].apply(lambda score_dict: score_dict['compound'])\n",
      "C:\\Users\\Jugal Deshmukh\\AppData\\Local\\Temp\\ipykernel_10168\\3408792306.py:5: SettingWithCopyWarning: \n",
      "A value is trying to be set on a copy of a slice from a DataFrame.\n",
      "Try using .loc[row_indexer,col_indexer] = value instead\n",
      "\n",
      "See the caveats in the documentation: https://pandas.pydata.org/pandas-docs/stable/user_guide/indexing.html#returning-a-view-versus-a-copy\n",
      "  finaldf['comp_score'] = finaldf['compound'].apply(lambda c: 'pos' if c >=0 else 'neg')\n"
     ]
    },
    {
     "data": {
      "text/html": [
       "<div>\n",
       "<style scoped>\n",
       "    .dataframe tbody tr th:only-of-type {\n",
       "        vertical-align: middle;\n",
       "    }\n",
       "\n",
       "    .dataframe tbody tr th {\n",
       "        vertical-align: top;\n",
       "    }\n",
       "\n",
       "    .dataframe thead th {\n",
       "        text-align: right;\n",
       "    }\n",
       "</style>\n",
       "<table border=\"1\" class=\"dataframe\">\n",
       "  <thead>\n",
       "    <tr style=\"text-align: right;\">\n",
       "      <th></th>\n",
       "      <th>overall</th>\n",
       "      <th>reviewText</th>\n",
       "      <th>scores</th>\n",
       "      <th>compound</th>\n",
       "      <th>comp_score</th>\n",
       "    </tr>\n",
       "  </thead>\n",
       "  <tbody>\n",
       "    <tr>\n",
       "      <th>0</th>\n",
       "      <td>pos</td>\n",
       "      <td>No issues.</td>\n",
       "      <td>{'neg': 0.688, 'neu': 0.312, 'pos': 0.0, 'comp...</td>\n",
       "      <td>-0.2960</td>\n",
       "      <td>neg</td>\n",
       "    </tr>\n",
       "    <tr>\n",
       "      <th>1</th>\n",
       "      <td>pos</td>\n",
       "      <td>Purchased this for my device, it worked as adv...</td>\n",
       "      <td>{'neg': 0.075, 'neu': 0.925, 'pos': 0.0, 'comp...</td>\n",
       "      <td>-0.2960</td>\n",
       "      <td>neg</td>\n",
       "    </tr>\n",
       "    <tr>\n",
       "      <th>2</th>\n",
       "      <td>pos</td>\n",
       "      <td>it works as expected. I should have sprung for...</td>\n",
       "      <td>{'neg': 0.077, 'neu': 0.923, 'pos': 0.0, 'comp...</td>\n",
       "      <td>-0.3089</td>\n",
       "      <td>neg</td>\n",
       "    </tr>\n",
       "    <tr>\n",
       "      <th>3</th>\n",
       "      <td>pos</td>\n",
       "      <td>This think has worked out great.Had a diff. br...</td>\n",
       "      <td>{'neg': 0.0, 'neu': 0.909, 'pos': 0.091, 'comp...</td>\n",
       "      <td>0.7081</td>\n",
       "      <td>pos</td>\n",
       "    </tr>\n",
       "    <tr>\n",
       "      <th>4</th>\n",
       "      <td>pos</td>\n",
       "      <td>Bought it with Retail Packaging, arrived legit...</td>\n",
       "      <td>{'neg': 0.038, 'neu': 0.835, 'pos': 0.127, 'co...</td>\n",
       "      <td>0.7087</td>\n",
       "      <td>pos</td>\n",
       "    </tr>\n",
       "  </tbody>\n",
       "</table>\n",
       "</div>"
      ],
      "text/plain": [
       "  overall                                         reviewText  \\\n",
       "0     pos                                         No issues.   \n",
       "1     pos  Purchased this for my device, it worked as adv...   \n",
       "2     pos  it works as expected. I should have sprung for...   \n",
       "3     pos  This think has worked out great.Had a diff. br...   \n",
       "4     pos  Bought it with Retail Packaging, arrived legit...   \n",
       "\n",
       "                                              scores  compound comp_score  \n",
       "0  {'neg': 0.688, 'neu': 0.312, 'pos': 0.0, 'comp...   -0.2960        neg  \n",
       "1  {'neg': 0.075, 'neu': 0.925, 'pos': 0.0, 'comp...   -0.2960        neg  \n",
       "2  {'neg': 0.077, 'neu': 0.923, 'pos': 0.0, 'comp...   -0.3089        neg  \n",
       "3  {'neg': 0.0, 'neu': 0.909, 'pos': 0.091, 'comp...    0.7081        pos  \n",
       "4  {'neg': 0.038, 'neu': 0.835, 'pos': 0.127, 'co...    0.7087        pos  "
      ]
     },
     "execution_count": 13,
     "metadata": {},
     "output_type": "execute_result"
    }
   ],
   "source": [
    "finaldf['scores'] = finaldf['reviewText'].apply(lambda reviewText: sid.polarity_scores(reviewText))\n",
    "\n",
    "finaldf['compound']  = finaldf['scores'].apply(lambda score_dict: score_dict['compound'])\n",
    "\n",
    "finaldf['comp_score'] = finaldf['compound'].apply(lambda c: 'pos' if c >=0 else 'neg')\n",
    "\n",
    "finaldf.head()"
   ]
  },
  {
   "cell_type": "markdown",
   "id": "bf6506c4",
   "metadata": {},
   "source": [
    "## Performance comparison analysis between the original `overall` and `comp_score`"
   ]
  },
  {
   "cell_type": "code",
   "execution_count": 14,
   "id": "f8412c7c",
   "metadata": {},
   "outputs": [],
   "source": [
    "import numpy as np\n",
    "from sklearn.metrics import accuracy_score,classification_report,confusion_matrix"
   ]
  },
  {
   "cell_type": "code",
   "execution_count": 15,
   "id": "0555157a",
   "metadata": {},
   "outputs": [
    {
     "data": {
      "text/plain": [
       "0.827024827024827"
      ]
     },
     "execution_count": 15,
     "metadata": {},
     "output_type": "execute_result"
    }
   ],
   "source": [
    "accuracy_score(finaldf['overall'],finaldf['comp_score'])"
   ]
  },
  {
   "cell_type": "code",
   "execution_count": 16,
   "id": "397c3d31",
   "metadata": {},
   "outputs": [
    {
     "name": "stdout",
     "output_type": "stream",
     "text": [
      "              precision    recall  f1-score   support\n",
      "\n",
      "         neg       0.28      0.53      0.37       466\n",
      "         pos       0.95      0.86      0.90      4448\n",
      "\n",
      "    accuracy                           0.83      4914\n",
      "   macro avg       0.61      0.69      0.63      4914\n",
      "weighted avg       0.88      0.83      0.85      4914\n",
      "\n"
     ]
    }
   ],
   "source": [
    "print(classification_report(finaldf['overall'],finaldf['comp_score']))"
   ]
  },
  {
   "cell_type": "markdown",
   "id": "5bed179f",
   "metadata": {},
   "source": [
    "### Confusion Matrix points\n",
    "[[TP_pos, FP_neg] <br>\n",
    " [FN_pos, TN_neg]] <br>\n",
    "TP_pos: Number of reviews correctly predicted as \"pos\".<br>\n",
    "FP_neg: Number of reviews incorrectly predicted as \"pos\" when they are actually \"neg\". <br>\n",
    "FN_pos: Number of reviews incorrectly predicted as \"neg\" when they are actually \"pos\". <br>\n",
    "TN_neg: Number of reviews correctly predicted as \"neg\". <br>"
   ]
  },
  {
   "cell_type": "code",
   "execution_count": 17,
   "id": "60298dda",
   "metadata": {},
   "outputs": [
    {
     "name": "stdout",
     "output_type": "stream",
     "text": [
      "[[ 245  221]\n",
      " [ 629 3819]]\n"
     ]
    }
   ],
   "source": [
    "print(confusion_matrix(finaldf['overall'],finaldf['comp_score']))"
   ]
  },
  {
   "cell_type": "code",
   "execution_count": 18,
   "id": "ce9ec082",
   "metadata": {},
   "outputs": [],
   "source": [
    "#filename =\"finaldata.xlsx\""
   ]
  },
  {
   "cell_type": "code",
   "execution_count": 19,
   "id": "7413d368",
   "metadata": {},
   "outputs": [],
   "source": [
    "#finaldf.to_excel(filename)"
   ]
  },
  {
   "cell_type": "markdown",
   "id": "582cd8f8",
   "metadata": {},
   "source": [
    "## Project Outcome and Conclusion \n",
    "\n",
    "The project provides a comprehensive framework for sentiment analysis of Amazon reviews using VADER, offering insights into customer sentiment towards products based on textual reviews. The outcome includes actionable insights such as:\n",
    "\n",
    "1. Identification of positive and negative sentiments associated with products. <br>\n",
    "2. Evaluation of model performance using standard metrics to guide improvements. <br>\n",
    "3. Potential next steps could involve:  <br>\n",
    "Experimenting with different sentiment analysis tools or models to improve accuracy.<br>\n",
    "Incorporating additional features or data sources to enrich analysis (e.g., metadata, user profiles).  <br>\n",
    "Fine-tuning parameters or thresholds for sentiment classification based on specific project requirements or domain characteristics.<br>\n",
    "\n",
    "Overall, the final outcome of the project serves as a valuable tool for understanding customer sentiment and making informed decisions related to product management, marketing strategies, and customer satisfaction enhancement in an e-commerce context."
   ]
  },
  {
   "cell_type": "code",
   "execution_count": null,
   "id": "b7b9b30f",
   "metadata": {},
   "outputs": [],
   "source": []
  }
 ],
 "metadata": {
  "kernelspec": {
   "display_name": "Python 3 (ipykernel)",
   "language": "python",
   "name": "python3"
  },
  "language_info": {
   "codemirror_mode": {
    "name": "ipython",
    "version": 3
   },
   "file_extension": ".py",
   "mimetype": "text/x-python",
   "name": "python",
   "nbconvert_exporter": "python",
   "pygments_lexer": "ipython3",
   "version": "3.9.13"
  }
 },
 "nbformat": 4,
 "nbformat_minor": 5
}
